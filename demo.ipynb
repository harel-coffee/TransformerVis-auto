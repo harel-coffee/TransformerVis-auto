{
 "cells": [
  {
   "cell_type": "markdown",
   "id": "available-middle",
   "metadata": {},
   "source": [
    "To train your own dictionary to visualize a transformer model. Follow the steps in the readme file. After you train and infer the top n activated example. You should have saved some .npy file in /top_activate_examples folder. Here's the demo showing you how to visualize those examples."
   ]
  },
  {
   "cell_type": "code",
   "execution_count": 67,
   "id": "italic-hanging",
   "metadata": {},
   "outputs": [],
   "source": [
    "from util import *"
   ]
  },
  {
   "cell_type": "code",
   "execution_count": 98,
   "id": "incorporate-means",
   "metadata": {},
   "outputs": [],
   "source": [
    "# Let's first define some variable.\n",
    "\n",
    "# layers is a list, indicating the list of transformer layers we want to visualize\n",
    "layers = [0,2,4,6,6,8,10]\n",
    "# num_items indicating the top \"n\" activated example we want to visualize\n",
    "num_items = 500\n",
    "# dims indicate the numbers of transformer factor we want to visualize\n",
    "dims = 1000"
   ]
  },
  {
   "cell_type": "code",
   "execution_count": 117,
   "id": "bacterial-charter",
   "metadata": {},
   "outputs": [],
   "source": [
    "# load examples\n",
    "layer_dict  = {}\n",
    "for i in layers:\n",
    "    layer_dict[i] = np.load('./top_activate_examples_2/example_l_{}.npy'.format(i),allow_pickle=True)[None][0]"
   ]
  },
  {
   "cell_type": "code",
   "execution_count": 84,
   "id": "desperate-difference",
   "metadata": {},
   "outputs": [],
   "source": [
    "# calculate importance score across layers\n",
    "X= np.array([[np.mean([layer_dict[l][transformer_factor][i]['score'] for i in range(num_items)]) for l in layers] for transformer_factor in range(dims)])"
   ]
  },
  {
   "cell_type": "code",
   "execution_count": null,
   "id": "needed-thomas",
   "metadata": {},
   "outputs": [],
   "source": [
    "# pick a particular layer, transformer factor, then run the cell to visualize!\n",
    "layer = 6\n",
    "transformer_factor = 30\n",
    "examples = layer_dict[layer][transformer_factor]\n",
    "html_print(print_example_simple(examples,n=num_items))"
   ]
  },
  {
   "cell_type": "markdown",
   "id": "adjustable-procedure",
   "metadata": {},
   "source": [
    "Follow the direction in readme to generate some colored examples. After you generates colored examples using write_color.py, simply use html_print to visualize it:"
   ]
  },
  {
   "cell_type": "code",
   "execution_count": null,
   "id": "instructional-colon",
   "metadata": {},
   "outputs": [],
   "source": [
    "with open('./top_activate_examples_w_color/l_10.txt') as f:\n",
    "    content_1 = f.readlines()\n",
    "html_print(content_1[1])"
   ]
  },
  {
   "cell_type": "code",
   "execution_count": null,
   "id": "chief-junction",
   "metadata": {},
   "outputs": [],
   "source": []
  }
 ],
 "metadata": {
  "kernelspec": {
   "display_name": "Python 3",
   "language": "python",
   "name": "python3"
  },
  "language_info": {
   "codemirror_mode": {
    "name": "ipython",
    "version": 3
   },
   "file_extension": ".py",
   "mimetype": "text/x-python",
   "name": "python",
   "nbconvert_exporter": "python",
   "pygments_lexer": "ipython3",
   "version": "3.8.8"
  }
 },
 "nbformat": 4,
 "nbformat_minor": 5
}
